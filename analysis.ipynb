{
 "cells": [
  {
   "cell_type": "code",
   "execution_count": 1,
   "metadata": {},
   "outputs": [],
   "source": [
    "\n",
    "import pandas as pd\n",
    "import scipy.stats as stats\n",
    "from statsmodels.stats.multicomp import pairwise_tukeyhsd\n"
   ]
  },
  {
   "cell_type": "code",
   "execution_count": 4,
   "metadata": {},
   "outputs": [
    {
     "name": "stdout",
     "output_type": "stream",
     "text": [
      "  Holiday Source  content_compound\n",
      "0     MLK    FOX            0.9916\n",
      "1     MLK    FOX           -0.8316\n",
      "2     MLK    FOX            0.6543\n",
      "3     MLK    FOX            0.8745\n",
      "4     MLK    FOX            0.9109\n"
     ]
    }
   ],
   "source": [
    "# Load your dataset\n",
    "\n",
    "df = pd.read_csv(\"vader.csv\", usecols=[\"Holiday\", \"Source\", \"content_compound\"])\n",
    "df = df.dropna()\n",
    "print(df.head())"
   ]
  },
  {
   "cell_type": "code",
   "execution_count": 11,
   "metadata": {},
   "outputs": [],
   "source": [
    "def run_anova_for_holiday(holiday_name, df):\n",
    "    print(f\"\\nRunning ANOVA for {holiday_name}...\\n\")\n",
    "    \n",
    "    # Filter data for the given holiday\n",
    "    holiday_df = df[df[\"Holiday\"] == holiday_name]\n",
    "    print(holiday_df)\n",
    "    \n",
    "    # Ensure at least 2 sources exist\n",
    "    sources = holiday_df[\"Source\"].unique()\n",
    "    if len(sources) < 2:\n",
    "        print(f\"Not enough sources for {holiday_name} ANOVA.\")\n",
    "        return\n",
    "    print(sources)\n",
    "    \n",
    "    # Run ANOVA\n",
    "    f_stat, p_anova = stats.f_oneway(\n",
    "        *[holiday_df[holiday_df[\"Source\"] == source][\"content_compound\"] for source in sources]\n",
    "    )\n",
    "    print(f\"ANOVA F-statistic: {f_stat:.4f}, p-value: {p_anova:.4f}\")\n",
    "\n",
    "\n",
    "\n"
   ]
  },
  {
   "cell_type": "code",
   "execution_count": 12,
   "metadata": {},
   "outputs": [
    {
     "name": "stdout",
     "output_type": "stream",
     "text": [
      "\n",
      "Running ANOVA for MLK...\n",
      "\n",
      "   Holiday Source  content_compound\n",
      "0      MLK    FOX            0.9916\n",
      "1      MLK    FOX           -0.8316\n",
      "2      MLK    FOX            0.6543\n",
      "3      MLK    FOX            0.8745\n",
      "4      MLK    FOX            0.9109\n",
      "5      MLK    FOX            0.5859\n",
      "6      MLK    FOX            0.9827\n",
      "7      MLK    FOX           -0.3532\n",
      "8      MLK    FOX            0.9955\n",
      "9      MLK     AP            0.9618\n",
      "10     MLK     AP           -0.9713\n",
      "11     MLK     AP            0.8829\n",
      "12     MLK     AP            0.9785\n",
      "13     MLK     AP           -0.9884\n",
      "14     MLK     AP            0.9879\n",
      "15     MLK     AP           -0.9958\n",
      "16     MLK     AP            0.8842\n",
      "17     MLK     AP           -0.4782\n",
      "18     MLK    CNN           -0.2071\n",
      "19     MLK    CNN            0.9975\n",
      "20     MLK    CNN            0.9912\n",
      "21     MLK    CNN            0.9997\n",
      "22     MLK    CNN            0.9804\n",
      "23     MLK    CNN            0.9218\n",
      "24     MLK    CNN            0.9981\n",
      "25     MLK    CNN            0.8555\n",
      "26     MLK    CNN            0.9876\n",
      "85     MLK    WSJ            0.9972\n",
      "86     MLK    WSJ            0.9865\n",
      "87     MLK    WSJ            0.9153\n",
      "88     MLK    WSJ           -0.9922\n",
      "89     MLK    WSJ            0.9911\n",
      "90     MLK    WSJ           -0.9984\n",
      "91     MLK    NYT           -0.9404\n",
      "92     MLK    NYT           -0.9755\n",
      "93     MLK    NYT            0.9941\n",
      "94     MLK    NYT           -0.9934\n",
      "95     MLK    NYT            0.8527\n",
      "96     MLK    NYT            0.9160\n",
      "97     MLK    NYT            0.9534\n",
      "98     MLK    NYT            0.9972\n",
      "99     MLK    NYT            0.6391\n",
      "['FOX' 'AP' 'CNN' 'WSJ' 'NYT']\n",
      "ANOVA F-statistic: 1.0026, p-value: 0.4186\n"
     ]
    }
   ],
   "source": [
    "run_anova_for_holiday(\"MLK\", df)\n"
   ]
  },
  {
   "cell_type": "code",
   "execution_count": 13,
   "metadata": {},
   "outputs": [
    {
     "name": "stdout",
     "output_type": "stream",
     "text": [
      "\n",
      "Running ANOVA for Veterans...\n",
      "\n",
      "      Holiday Source  content_compound\n",
      "62   Veterans    FOX           -0.9881\n",
      "63   Veterans    FOX            0.9997\n",
      "64   Veterans    FOX            0.9998\n",
      "65   Veterans    FOX            0.9987\n",
      "66   Veterans    FOX            0.9715\n",
      "67   Veterans    FOX            0.9280\n",
      "68   Veterans    FOX            0.7579\n",
      "69   Veterans    FOX            0.9983\n",
      "70   Veterans    FOX            0.8591\n",
      "71   Veterans     AP            0.9001\n",
      "72   Veterans     AP            0.9636\n",
      "73   Veterans     AP            0.9690\n",
      "74   Veterans    CNN            0.7994\n",
      "75   Veterans    CNN            0.8495\n",
      "76   Veterans    CNN            0.9887\n",
      "77   Veterans    CNN            0.9877\n",
      "78   Veterans    CNN           -0.9809\n",
      "79   Veterans    CNN            0.9840\n",
      "80   Veterans    CNN            0.8442\n",
      "81   Veterans    CNN            0.9969\n",
      "82   Veterans    CNN            0.9535\n",
      "83   Veterans    CNN            0.9934\n",
      "84   Veterans    CNN            0.9933\n",
      "121  Veterans    WSJ            0.9973\n",
      "122  Veterans    WSJ            0.7469\n",
      "123  Veterans    WSJ           -0.9954\n",
      "124  Veterans    WSJ            0.9944\n",
      "125  Veterans    WSJ            0.9939\n",
      "126  Veterans    WSJ            0.9850\n",
      "127  Veterans    WSJ            0.5859\n",
      "128  Veterans    WSJ           -0.5661\n",
      "129  Veterans    WSJ            0.9965\n",
      "130  Veterans    NYT           -0.7227\n",
      "131  Veterans    NYT            0.9970\n",
      "132  Veterans    NYT           -0.6607\n",
      "133  Veterans    NYT            0.9767\n",
      "134  Veterans    NYT           -0.9499\n",
      "135  Veterans    NYT           -0.9639\n",
      "136  Veterans    NYT           -0.9849\n",
      "137  Veterans    NYT            0.9895\n",
      "138  Veterans    NYT            0.9965\n",
      "139  Veterans    NYT            0.9446\n",
      "140  Veterans    NYT            0.9988\n",
      "141  Veterans    NYT           -0.9824\n",
      "142  Veterans    NYT            0.9947\n",
      "143  Veterans    NYT           -0.9206\n",
      "144  Veterans    NYT            0.9398\n",
      "145  Veterans    NYT            0.9964\n",
      "146  Veterans    NYT            0.9362\n",
      "['FOX' 'AP' 'CNN' 'WSJ' 'NYT']\n",
      "ANOVA F-statistic: 1.3622, p-value: 0.2625\n"
     ]
    }
   ],
   "source": [
    "run_anova_for_holiday(\"Veterans\", df)\n"
   ]
  },
  {
   "cell_type": "code",
   "execution_count": 14,
   "metadata": {},
   "outputs": [
    {
     "name": "stdout",
     "output_type": "stream",
     "text": [
      "\n",
      "Running ANOVA for July4th...\n",
      "\n",
      "     Holiday Source  content_compound\n",
      "27   July4th    FOX            0.9600\n",
      "28   July4th    FOX            0.9608\n",
      "29   July4th    FOX            0.9959\n",
      "30   July4th    FOX           -0.9968\n",
      "31   July4th    FOX            0.9986\n",
      "32   July4th    FOX           -0.9360\n",
      "33   July4th    FOX            0.9978\n",
      "34   July4th    FOX            0.8461\n",
      "35   July4th    FOX           -0.9999\n",
      "36   July4th    FOX           -0.9934\n",
      "37   July4th    FOX            0.5919\n",
      "38   July4th    FOX            0.7457\n",
      "39   July4th     AP            0.9180\n",
      "40   July4th     AP           -0.9856\n",
      "41   July4th     AP            0.9008\n",
      "42   July4th     AP            0.9596\n",
      "43   July4th     AP           -0.9946\n",
      "44   July4th     AP           -0.9990\n",
      "45   July4th     AP            0.9950\n",
      "46   July4th     AP           -0.8760\n",
      "47   July4th     AP            0.9778\n",
      "48   July4th    CNN           -0.9515\n",
      "49   July4th    CNN            0.8338\n",
      "50   July4th    CNN           -0.9988\n",
      "51   July4th    CNN           -0.9958\n",
      "52   July4th    CNN           -0.9785\n",
      "53   July4th    CNN           -0.9979\n",
      "54   July4th    CNN            0.9896\n",
      "55   July4th    CNN            0.9995\n",
      "56   July4th    CNN            0.9977\n",
      "57   July4th    CNN            0.9976\n",
      "58   July4th    CNN           -0.9703\n",
      "59   July4th    CNN            0.9805\n",
      "60   July4th    CNN           -0.9460\n",
      "61   July4th    CNN           -0.9974\n",
      "100  July4th    WSJ            0.9902\n",
      "101  July4th    WSJ            0.9994\n",
      "102  July4th    WSJ            0.9206\n",
      "103  July4th    WSJ           -0.9580\n",
      "104  July4th    WSJ            0.7823\n",
      "105  July4th    WSJ            0.9951\n",
      "106  July4th    WSJ            0.9931\n",
      "107  July4th    WSJ            0.0151\n",
      "108  July4th    WSJ            0.9934\n",
      "109  July4th    WSJ           -0.9053\n",
      "110  July4th    WSJ           -0.9313\n",
      "111  July4th    WSJ           -0.9589\n",
      "112  July4th    NYT            0.9942\n",
      "113  July4th    NYT            0.9991\n",
      "114  July4th    NYT            0.9971\n",
      "115  July4th    NYT            0.9986\n",
      "116  July4th    NYT            0.9964\n",
      "117  July4th    NYT           -0.9945\n",
      "118  July4th    NYT            0.9917\n",
      "119  July4th    NYT            0.9881\n",
      "120  July4th    NYT            0.9948\n",
      "['FOX' 'AP' 'CNN' 'WSJ' 'NYT']\n",
      "ANOVA F-statistic: 1.4087, p-value: 0.2444\n"
     ]
    }
   ],
   "source": [
    "run_anova_for_holiday(\"July4th\", df=df)"
   ]
  }
 ],
 "metadata": {
  "kernelspec": {
   "display_name": "Python 3",
   "language": "python",
   "name": "python3"
  },
  "language_info": {
   "codemirror_mode": {
    "name": "ipython",
    "version": 3
   },
   "file_extension": ".py",
   "mimetype": "text/x-python",
   "name": "python",
   "nbconvert_exporter": "python",
   "pygments_lexer": "ipython3",
   "version": "3.11.3"
  }
 },
 "nbformat": 4,
 "nbformat_minor": 2
}
